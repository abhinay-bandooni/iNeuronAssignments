{
 "cells": [
  {
   "cell_type": "markdown",
   "id": "cec562a9",
   "metadata": {},
   "source": [
    "# Test Case 1"
   ]
  },
  {
   "cell_type": "code",
   "execution_count": null,
   "id": "87c8931d",
   "metadata": {},
   "outputs": [],
   "source": [
    "str1 = \"write write write all all all all the number from from from from 1 to 100\""
   ]
  },
  {
   "cell_type": "code",
   "execution_count": 2,
   "id": "b3badf2a",
   "metadata": {},
   "outputs": [
    {
     "data": {
      "text/plain": [
       "['write',\n",
       " 'write',\n",
       " 'write',\n",
       " 'all',\n",
       " 'all',\n",
       " 'all',\n",
       " 'all',\n",
       " 'the',\n",
       " 'number',\n",
       " 'from',\n",
       " 'from',\n",
       " 'from',\n",
       " 'from',\n",
       " '1',\n",
       " 'to',\n",
       " '100']"
      ]
     },
     "execution_count": 2,
     "metadata": {},
     "output_type": "execute_result"
    }
   ],
   "source": [
    "# Splitting the string in list of words\n",
    "str_lst = str1.split(sep=\" \")\n",
    "str_lst"
   ]
  },
  {
   "cell_type": "code",
   "execution_count": 3,
   "id": "2e2c10e0",
   "metadata": {},
   "outputs": [
    {
     "data": {
      "text/plain": [
       "{'1', '100', 'all', 'from', 'number', 'the', 'to', 'write'}"
      ]
     },
     "execution_count": 3,
     "metadata": {},
     "output_type": "execute_result"
    }
   ],
   "source": [
    "# Saved unique words in a set\n",
    "str_set = set(str_lst)\n",
    "str_set"
   ]
  },
  {
   "cell_type": "code",
   "execution_count": 4,
   "id": "b78785ad",
   "metadata": {},
   "outputs": [],
   "source": [
    "# Unique words and their count of occurances is saved in Dictionary\n",
    "count_dict = dict()\n",
    "for s in str_set:\n",
    "    count_dict[s] = str_lst.count(s)\n"
   ]
  },
  {
   "cell_type": "code",
   "execution_count": 5,
   "id": "8b154f08",
   "metadata": {},
   "outputs": [],
   "source": [
    "# Converted dictionary into DataFrame to apply sort\n",
    "import pandas as pd\n",
    "ss = pd.Series(count_dict.keys())\n",
    "sd = pd.Series(count_dict.values())\n",
    "df = pd.DataFrame((ss,sd), index=[\"string\",\"count\"]).T"
   ]
  },
  {
   "cell_type": "code",
   "execution_count": 6,
   "id": "764508fe",
   "metadata": {},
   "outputs": [
    {
     "data": {
      "text/html": [
       "<div>\n",
       "<style scoped>\n",
       "    .dataframe tbody tr th:only-of-type {\n",
       "        vertical-align: middle;\n",
       "    }\n",
       "\n",
       "    .dataframe tbody tr th {\n",
       "        vertical-align: top;\n",
       "    }\n",
       "\n",
       "    .dataframe thead th {\n",
       "        text-align: right;\n",
       "    }\n",
       "</style>\n",
       "<table border=\"1\" class=\"dataframe\">\n",
       "  <thead>\n",
       "    <tr style=\"text-align: right;\">\n",
       "      <th></th>\n",
       "      <th>string</th>\n",
       "      <th>count</th>\n",
       "    </tr>\n",
       "  </thead>\n",
       "  <tbody>\n",
       "    <tr>\n",
       "      <th>0</th>\n",
       "      <td>to</td>\n",
       "      <td>1</td>\n",
       "    </tr>\n",
       "    <tr>\n",
       "      <th>1</th>\n",
       "      <td>from</td>\n",
       "      <td>4</td>\n",
       "    </tr>\n",
       "    <tr>\n",
       "      <th>2</th>\n",
       "      <td>number</td>\n",
       "      <td>1</td>\n",
       "    </tr>\n",
       "    <tr>\n",
       "      <th>3</th>\n",
       "      <td>the</td>\n",
       "      <td>1</td>\n",
       "    </tr>\n",
       "    <tr>\n",
       "      <th>4</th>\n",
       "      <td>1</td>\n",
       "      <td>1</td>\n",
       "    </tr>\n",
       "    <tr>\n",
       "      <th>5</th>\n",
       "      <td>100</td>\n",
       "      <td>1</td>\n",
       "    </tr>\n",
       "    <tr>\n",
       "      <th>6</th>\n",
       "      <td>all</td>\n",
       "      <td>4</td>\n",
       "    </tr>\n",
       "    <tr>\n",
       "      <th>7</th>\n",
       "      <td>write</td>\n",
       "      <td>3</td>\n",
       "    </tr>\n",
       "  </tbody>\n",
       "</table>\n",
       "</div>"
      ],
      "text/plain": [
       "   string count\n",
       "0      to     1\n",
       "1    from     4\n",
       "2  number     1\n",
       "3     the     1\n",
       "4       1     1\n",
       "5     100     1\n",
       "6     all     4\n",
       "7   write     3"
      ]
     },
     "execution_count": 6,
     "metadata": {},
     "output_type": "execute_result"
    }
   ],
   "source": [
    "df"
   ]
  },
  {
   "cell_type": "code",
   "execution_count": 7,
   "id": "2ebb3db7",
   "metadata": {},
   "outputs": [
    {
     "data": {
      "text/html": [
       "<div>\n",
       "<style scoped>\n",
       "    .dataframe tbody tr th:only-of-type {\n",
       "        vertical-align: middle;\n",
       "    }\n",
       "\n",
       "    .dataframe tbody tr th {\n",
       "        vertical-align: top;\n",
       "    }\n",
       "\n",
       "    .dataframe thead th {\n",
       "        text-align: right;\n",
       "    }\n",
       "</style>\n",
       "<table border=\"1\" class=\"dataframe\">\n",
       "  <thead>\n",
       "    <tr style=\"text-align: right;\">\n",
       "      <th></th>\n",
       "      <th>string</th>\n",
       "      <th>count</th>\n",
       "    </tr>\n",
       "  </thead>\n",
       "  <tbody>\n",
       "    <tr>\n",
       "      <th>0</th>\n",
       "      <td>from</td>\n",
       "      <td>4</td>\n",
       "    </tr>\n",
       "    <tr>\n",
       "      <th>1</th>\n",
       "      <td>all</td>\n",
       "      <td>4</td>\n",
       "    </tr>\n",
       "  </tbody>\n",
       "</table>\n",
       "</div>"
      ],
      "text/plain": [
       "  string count\n",
       "0   from     4\n",
       "1    all     4"
      ]
     },
     "execution_count": 7,
     "metadata": {},
     "output_type": "execute_result"
    }
   ],
   "source": [
    "# Applied sort and selected words having highest frequency\n",
    "df.sort_values(by=\"count\", axis=0, ascending=False, inplace=True)\n",
    "df=df[df[\"count\"].max()==df[\"count\"]].reset_index(drop=True)\n",
    "df"
   ]
  },
  {
   "cell_type": "code",
   "execution_count": 8,
   "id": "b8b6711f",
   "metadata": {},
   "outputs": [
    {
     "name": "stdout",
     "output_type": "stream",
     "text": [
      "4\n"
     ]
    }
   ],
   "source": [
    "# Prints the longest word with highest frequency\n",
    "lst = 0\n",
    "for i in df.string:\n",
    "    if lst<len(i):\n",
    "        lst=len(i)\n",
    "\n",
    "print(lst)"
   ]
  },
  {
   "cell_type": "markdown",
   "id": "0cc00457",
   "metadata": {},
   "source": [
    "# Test Case 2"
   ]
  },
  {
   "cell_type": "code",
   "execution_count": 10,
   "id": "fa103ecb",
   "metadata": {},
   "outputs": [],
   "source": [
    "str2 = \"write write write all all all the number from from from from 1 to 100\""
   ]
  },
  {
   "cell_type": "code",
   "execution_count": 11,
   "id": "c0eb9ae2",
   "metadata": {},
   "outputs": [
    {
     "data": {
      "text/plain": [
       "['write',\n",
       " 'write',\n",
       " 'write',\n",
       " 'all',\n",
       " 'all',\n",
       " 'all',\n",
       " 'the',\n",
       " 'number',\n",
       " 'from',\n",
       " 'from',\n",
       " 'from',\n",
       " 'from',\n",
       " '1',\n",
       " 'to',\n",
       " '100']"
      ]
     },
     "execution_count": 11,
     "metadata": {},
     "output_type": "execute_result"
    }
   ],
   "source": [
    "# Splitting the string in list of words\n",
    "str_lst = str2.split(sep=\" \")\n",
    "str_lst"
   ]
  },
  {
   "cell_type": "code",
   "execution_count": 12,
   "id": "b5d29c55",
   "metadata": {},
   "outputs": [
    {
     "data": {
      "text/plain": [
       "{'1', '100', 'all', 'from', 'number', 'the', 'to', 'write'}"
      ]
     },
     "execution_count": 12,
     "metadata": {},
     "output_type": "execute_result"
    }
   ],
   "source": [
    "# Saved unique words in a set\n",
    "str_set = set(str_lst)\n",
    "str_set"
   ]
  },
  {
   "cell_type": "code",
   "execution_count": 13,
   "id": "4ea16d37",
   "metadata": {},
   "outputs": [],
   "source": [
    "# Unique words and their count of occurances is saved in Dictionary\n",
    "count_dict = dict()\n",
    "for s in str_set:\n",
    "    count_dict[s] = str_lst.count(s)\n"
   ]
  },
  {
   "cell_type": "code",
   "execution_count": 14,
   "id": "917999b2",
   "metadata": {},
   "outputs": [],
   "source": [
    "# Converted dictionary into DataFrame to apply sort\n",
    "import pandas as pd\n",
    "ss = pd.Series(count_dict.keys())\n",
    "sd = pd.Series(count_dict.values())\n",
    "df = pd.DataFrame((ss,sd), index=[\"string\",\"count\"]).T"
   ]
  },
  {
   "cell_type": "code",
   "execution_count": 15,
   "id": "b1880e43",
   "metadata": {},
   "outputs": [
    {
     "data": {
      "text/html": [
       "<div>\n",
       "<style scoped>\n",
       "    .dataframe tbody tr th:only-of-type {\n",
       "        vertical-align: middle;\n",
       "    }\n",
       "\n",
       "    .dataframe tbody tr th {\n",
       "        vertical-align: top;\n",
       "    }\n",
       "\n",
       "    .dataframe thead th {\n",
       "        text-align: right;\n",
       "    }\n",
       "</style>\n",
       "<table border=\"1\" class=\"dataframe\">\n",
       "  <thead>\n",
       "    <tr style=\"text-align: right;\">\n",
       "      <th></th>\n",
       "      <th>string</th>\n",
       "      <th>count</th>\n",
       "    </tr>\n",
       "  </thead>\n",
       "  <tbody>\n",
       "    <tr>\n",
       "      <th>0</th>\n",
       "      <td>from</td>\n",
       "      <td>4</td>\n",
       "    </tr>\n",
       "  </tbody>\n",
       "</table>\n",
       "</div>"
      ],
      "text/plain": [
       "  string count\n",
       "0   from     4"
      ]
     },
     "execution_count": 15,
     "metadata": {},
     "output_type": "execute_result"
    }
   ],
   "source": [
    "# Applied sort and selected words having highest frequency\n",
    "df.sort_values(by=\"count\", axis=0, ascending=False, inplace=True)\n",
    "df=df[df[\"count\"].max()==df[\"count\"]].reset_index(drop=True)\n",
    "df"
   ]
  },
  {
   "cell_type": "code",
   "execution_count": 16,
   "id": "017aa5cc",
   "metadata": {},
   "outputs": [
    {
     "name": "stdout",
     "output_type": "stream",
     "text": [
      "4\n"
     ]
    }
   ],
   "source": [
    "# Prints the longest word with highest frequency\n",
    "lst = 0\n",
    "for i in df.string:\n",
    "    if lst<len(i):\n",
    "        lst=len(i)\n",
    "\n",
    "print(lst)"
   ]
  },
  {
   "cell_type": "code",
   "execution_count": null,
   "id": "20dacedf",
   "metadata": {},
   "outputs": [],
   "source": []
  }
 ],
 "metadata": {
  "kernelspec": {
   "display_name": "Python 3 (ipykernel)",
   "language": "python",
   "name": "python3"
  },
  "language_info": {
   "codemirror_mode": {
    "name": "ipython",
    "version": 3
   },
   "file_extension": ".py",
   "mimetype": "text/x-python",
   "name": "python",
   "nbconvert_exporter": "python",
   "pygments_lexer": "ipython3",
   "version": "3.9.12"
  }
 },
 "nbformat": 4,
 "nbformat_minor": 5
}
